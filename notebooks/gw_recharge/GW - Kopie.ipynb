{
 "cells": [
  {
   "cell_type": "markdown",
   "id": "c530b698-6471-4cf3-92a5-166da02fe5f6",
   "metadata": {},
   "source": [
    "# Evaporation - Groundwater Recharge"
   ]
  },
  {
   "cell_type": "code",
   "execution_count": 62,
   "id": "b3913ebe-bc4b-447f-ac22-f28a6a184a2b",
   "metadata": {},
   "outputs": [],
   "source": [
    "# read all necessary libraries\n",
    "import numpy as np\n",
    "import pandas as pd\n",
    "import matplotlib.pyplot as plt\n",
    "from ipywidgets import FloatSlider, Button, VBox, HBox, widgets, interact\n",
    "from IPython.display import display, clear_output\n"
   ]
  },
  {
   "cell_type": "markdown",
   "id": "39738f48-7558-4929-882a-010b7b7c3166",
   "metadata": {},
   "source": [
    "### Variables, Acronyms\n",
    "ETP...Potential Evapotranspiration [mm/d] \\\n",
    "ETR...Real(actual) Evapotranspiration [mm/d] \\\n",
    "Re...extraterrestrial radiation [MJ/(m^2 d)] \\\n",
    "S_B_A...The volumetric soil moisture [%] \\\n",
    "awc...available water capacity [mm] \\\n",
    "K_s...water stress coefficient [-] \\\n",
    "PP...Precipitation [mm] \\\n",
    "Re_mm_day...Extraterrestrial radiation [mm/d]\\\n",
    "xrain... \\\n",
    "p...precipitation"
   ]
  },
  {
   "cell_type": "code",
   "execution_count": 63,
   "id": "a3273d0c-1c1f-4e30-a137-bb7015c606fa",
   "metadata": {},
   "outputs": [],
   "source": [
    "# load data from ETP_data.csv\n",
    "data = pd.read_csv('ETP_data.csv', index_col='datum', parse_dates=True)\n",
    "ETP = data.ETP\n",
    "Re = data.Re\n"
   ]
  },
  {
   "cell_type": "code",
   "execution_count": 66,
   "id": "07a58b56",
   "metadata": {},
   "outputs": [],
   "source": [
    "class SoilMoistureSimulation:\n",
    "    def __init__(self, data):\n",
    "        self.data = data\n",
    "        self.awc = 150\n",
    "        self.p = 0.7\n",
    "        self.xrain = 1\n",
    "        self.ref_data = None\n",
    "        #self.create_interactive_plot()\n",
    "\n",
    "    def update_moisture_content(self, soilwater_content, PP, ETR, awc):\n",
    "        if soilwater_content + PP - ETR > awc:\n",
    "            updated_value = awc\n",
    "            excess_water = soilwater_content + PP - ETR - awc\n",
    "        else:\n",
    "            updated_value = soilwater_content + PP - ETR\n",
    "            excess_water = 0\n",
    "        return updated_value, excess_water\n",
    "\n",
    "    def linear_reduction_function(self, S_B_A, available_water_capacity, fraction_of_awc=0.7):\n",
    "        theta_0 = available_water_capacity * fraction_of_awc\n",
    "        if S_B_A >= theta_0:\n",
    "            K_s = 1\n",
    "        elif S_B_A <= 0:\n",
    "            K_s = 0\n",
    "        else:\n",
    "            K_s = S_B_A / theta_0\n",
    "        return K_s\n",
    "\n",
    "    def run_simulation(self, awc=150, p=0.7, xrain=1):\n",
    "        ETP = self.data['ETP']  # Assuming 'ETP' is a column in your 'data'\n",
    "        Precip = self.data['N (mm/d)'] * xrain\n",
    "        gw_flux = np.zeros(len(self.data))\n",
    "        soil_moisture = np.zeros(len(self.data))\n",
    "        soil_moisture[0] = awc\n",
    "        ETR = np.zeros(len(self.data))\n",
    "        \n",
    "        for i in range(1, len(self.data)):\n",
    "            ETR[i] = ETP[i] * self.linear_reduction_function(soil_moisture[i-1], awc, p)\n",
    "            soil_moisture[i], excess_water = self.update_moisture_content(soil_moisture[i-1], Precip[i], ETR[i], awc)\n",
    "            gw_flux[i] = excess_water\n",
    "\n",
    "        return Precip, ETP, ETR, soil_moisture, gw_flux\n",
    "\n",
    "    def plot_simulation(self, awc, p, xrain):\n",
    "        # Running the current simulation\n",
    "        Precip, ETP, ETR, soil_moisture, gw_flux = self.run_simulation(awc, p, xrain)\n",
    "        \n",
    "        # If there's reference data, unpack it\n",
    "        if self.ref_data:\n",
    "            ref_precip, ref_etp, ref_etr, ref_soil_moisture, ref_gw_flux = self.ref_data\n",
    "        \n",
    "        # Plotting setup\n",
    "        fig = plt.figure(figsize=(12, 7))\n",
    "        width_ratio = 0.4\n",
    "        spacing_vertical = 0.05\n",
    "        spacing_horizontal = 0.09\n",
    "        \n",
    "        left_plot_width = (1 - width_ratio - spacing_horizontal)\n",
    "        right_plot_width = width_ratio\n",
    "        \n",
    "        height_left = (1 - 4 * spacing_vertical) / 3\n",
    "        positions_left = [2/3 + spacing_vertical, 1/3 + spacing_vertical, 0 + spacing_vertical]\n",
    "        \n",
    "        height_right = (1 - 2 * spacing_vertical) / 2\n",
    "        positions_right = [1/2 + spacing_vertical/2, 0 + spacing_vertical - 0.05]\n",
    "        \n",
    "        # Subplot axes\n",
    "        ax1 = fig.add_axes([0, positions_left[0], left_plot_width, height_left])\n",
    "        ax2 = fig.add_axes([0, positions_left[1], left_plot_width, height_left])\n",
    "        ax3 = fig.add_axes([0, positions_left[2], left_plot_width, height_left])\n",
    "        ax_right1 = fig.add_axes([1 - right_plot_width, positions_right[0], right_plot_width, height_right])\n",
    "        ax_right2 = fig.add_axes([1 - right_plot_width, positions_right[1], right_plot_width, height_right])\n",
    "        \n",
    "        # Plot current data\n",
    "        ax1.bar(self.data.index, Precip, color='skyblue', label='Precipitation', width=1)\n",
    "        ax2.plot(self.data.index, ETP, color='goldenrod', label='ETP')\n",
    "        ax2.plot(self.data.index, ETR, color='tomato', label='ETR')\n",
    "        ax3.plot(self.data.index, soil_moisture, color='steelblue', label='Soil Moisture')\n",
    "        ax3_twin = ax3.twinx()\n",
    "        ax3_twin.bar(self.data.index, gw_flux, color='navy', label='Groundwater Flux', width=1)\n",
    "\n",
    "        # Plot cumulative current data\n",
    "        ax_right1.plot(self.data.index, np.cumsum(Precip), color='skyblue', label='Cumulative Precipitation')\n",
    "        ax_right1.plot(self.data.index, np.cumsum(gw_flux), color='navy', label='Cumulative GW Flux')\n",
    "        ax_right2.plot(self.data.index, np.cumsum(ETP), color='goldenrod', label='Cumulative ETP')\n",
    "        ax_right2.plot(self.data.index, np.cumsum(ETR), color='tomato', label='Cumulative ETR')\n",
    "        \n",
    "        # Plot reference data if available\n",
    "        if self.ref_data:\n",
    "            #ax1.plot(self.data.index, ref_precip, 'skyblue', linestyle='--', label='Ref Precipitation')\n",
    "            #ax2.plot(self.data.index, ref_etp, 'goldenrod', linestyle='--', label='Ref ETP')\n",
    "            ax2.plot(self.data.index, ref_etr, 'tomato', linestyle='--', label='Ref ETR')\n",
    "            ax3.plot(self.data.index, ref_soil_moisture, 'steelblue', linestyle='--', label='Ref Soil Moisture')\n",
    "            #ax3.twinx().plot(self.data.index, ref_gw_flux, 'navy', linestyle='--', label='Ref GW Flux')\n",
    "\n",
    "            # Plot cumulative reference data\n",
    "            ax_right1.plot(self.data.index, np.cumsum(ref_precip), 'skyblue', linestyle='--', label='Ref Cumulative Precipitation')\n",
    "            ax_right1.plot(self.data.index, np.cumsum(ref_gw_flux), 'navy', linestyle='--', label='Ref Cumulative GW Flux')\n",
    "            #ax_right2.plot(self.data.index, np.cumsum(ref_etp), 'goldenrod', linestyle='--', label='Ref Cumulative ETP')\n",
    "            ax_right2.plot(self.data.index, np.cumsum(ref_etr), 'tomato', linestyle='--', label='Ref Cumulative ETR')\n",
    "\n",
    "        x = True\n",
    "\n",
    "        # convert axis to log if x is true\n",
    "        if x:\n",
    "            ax1.set_yscale('log')\n",
    "            ax2.set_yscale('log')\n",
    "            ax3.set_yscale('log')\n",
    "            ax_right1.set_yscale('log')\n",
    "            ax_right2.set_yscale('log')\n",
    "\n",
    "        # Adding labels, legends, and finalizing plot layout\n",
    "        ax1.set_ylabel('Precipitation (mm/d)')\n",
    "        ax2.set_ylabel('ETP and ETR (mm/d)')\n",
    "        ax3.set_ylabel('Soil Moisture (mm)')\n",
    "        ax3_twin.set_ylabel('Groundwater Flux (mm/d)')\n",
    "        ax_right1.set_ylabel('Cumulative Precipitation and GW Flux (mm)')\n",
    "        ax_right2.set_ylabel('Cumulative ETP and ETR (mm)')\n",
    "\n",
    "        for ax in [ax1, ax2, ax3, ax_right1, ax_right2, ax3_twin]:\n",
    "            ax.legend(loc='best')\n",
    "        \n",
    "        plt.tight_layout()\n",
    "\n",
    "    def on_save_click(self, button):\n",
    "        self.ref_data = self.run_simulation(self.awc, self.p, self.xrain)\n",
    "        print(\"Reference state saved.\")\n",
    "\n",
    "    def create_interactive_plot(self):\n",
    "        awc_slider = widgets.FloatSlider(min=0, max=500, step=5, value=self.awc, description='AWC:')\n",
    "        p_slider = widgets.FloatSlider(min=0.5, max=1.0, step=0.1, value=self.p, description='p:')\n",
    "        xrain_slider = widgets.FloatSlider(min=0.1, max=5, step=0.1, value=self.xrain, description='xRain:')\n",
    "\n",
    "        save_btn = widgets.Button(description=\"Save Current State\")\n",
    "        save_btn.on_click(self.on_save_click)\n",
    "\n",
    "        def update_plot(awc, p, xrain):\n",
    "            self.plot_simulation(awc, p, xrain)\n",
    "            if self.ref_data:\n",
    "                # Optionally handle plotting of the reference data here\n",
    "                pass\n",
    "\n",
    "        ui = widgets.VBox([awc_slider, p_slider, xrain_slider, save_btn])\n",
    "        out = widgets.interactive_output(update_plot, {'awc': awc_slider, 'p': p_slider, 'xrain': xrain_slider})\n",
    "\n",
    "        display(ui, out)\n",
    "\n",
    "\n",
    "plotter = SoilMoistureSimulation(data)\n"
   ]
  },
  {
   "cell_type": "code",
   "execution_count": 71,
   "id": "b93f9099",
   "metadata": {},
   "outputs": [
    {
     "data": {
      "application/vnd.jupyter.widget-view+json": {
       "model_id": "db896c2eec464628bc17fa192e674d23",
       "version_major": 2,
       "version_minor": 0
      },
      "text/plain": [
       "VBox(children=(FloatSlider(value=150.0, description='AWC:', max=500.0, step=5.0), FloatSlider(value=0.7, descr…"
      ]
     },
     "metadata": {},
     "output_type": "display_data"
    },
    {
     "data": {
      "application/vnd.jupyter.widget-view+json": {
       "model_id": "d1128f5516944ddf9ec4434470422a0c",
       "version_major": 2,
       "version_minor": 0
      },
      "text/plain": [
       "Output()"
      ]
     },
     "metadata": {},
     "output_type": "display_data"
    }
   ],
   "source": [
    "plotter.create_interactive_plot()"
   ]
  },
  {
   "cell_type": "code",
   "execution_count": 68,
   "id": "f561c290",
   "metadata": {},
   "outputs": [],
   "source": [
    "class SoilMoistureSimulation:\n",
    "    def __init__(self, variable):\n",
    "        self.var = variable\n",
    "        self.ref_data = None\n",
    "\n",
    "    def add_value(self, x):\n",
    "\n",
    "        current_data = self.var + x\n",
    "        self.ref_data = current_data\n",
    "        return current_data\n"
   ]
  },
  {
   "cell_type": "code",
   "execution_count": 69,
   "id": "d0e2ab13",
   "metadata": {},
   "outputs": [],
   "source": [
    "class_test = SoilMoistureSimulation(5)"
   ]
  },
  {
   "cell_type": "code",
   "execution_count": 70,
   "id": "6394933e",
   "metadata": {},
   "outputs": [
    {
     "data": {
      "text/plain": [
       "8"
      ]
     },
     "execution_count": 70,
     "metadata": {},
     "output_type": "execute_result"
    }
   ],
   "source": [
    "class_test.add_value(3)"
   ]
  },
  {
   "cell_type": "code",
   "execution_count": null,
   "id": "a1534247",
   "metadata": {},
   "outputs": [],
   "source": []
  }
 ],
 "metadata": {
  "kernelspec": {
   "display_name": "Python 3 (ipykernel)",
   "language": "python",
   "name": "python3"
  },
  "language_info": {
   "codemirror_mode": {
    "name": "ipython",
    "version": 3
   },
   "file_extension": ".py",
   "mimetype": "text/x-python",
   "name": "python",
   "nbconvert_exporter": "python",
   "pygments_lexer": "ipython3",
   "version": "undefined.undefined.undefined"
  }
 },
 "nbformat": 4,
 "nbformat_minor": 5
}
