{
 "cells": [
  {
   "cell_type": "code",
   "execution_count": 1,
   "metadata": {},
   "outputs": [],
   "source": [
    "import pandas as pd\n",
    "import matplotlib.pyplot as plt\n",
    "import pyet\n",
    "import numpy as np\n",
    "from scipy import stats"
   ]
  },
  {
   "cell_type": "code",
   "execution_count": null,
   "metadata": {},
   "outputs": [],
   "source": [
    "#read data\n",
    "data_16412 = pd.read_csv('klima_daily.csv', index_col=1, parse_dates=True)\n",
    "data_16412"
   ]
  },
  {
   "cell_type": "code",
   "execution_count": null,
   "metadata": {},
   "outputs": [],
   "source": [
    "# Convert Glabalstrahlung J/cm2 to MJ/m2 by dividing to 100\n",
    "\n",
    "meteo = pd.DataFrame({\"time\":data_16412.index, \"tmean\":data_16412.t, \"tmax\":data_16412.tmax, \"tmin\":data_16412.tmin, \"rh\":data_16412.rel, \n",
    "                      \"wind\":data_16412.vv, \"rs\":data_16412.strahl/100})\n",
    "time, tmean, tmax, tmin, rh, wind, rs = [meteo[col] for col in meteo.columns]\n",
    "\n",
    "lat = 47.077778*np.pi/180  # Latitude of the meteorological station, converting from degrees to radians\n",
    "elevation = 367  # meters above sea-level\n",
    "\n",
    "lambda1=pyet.calc_lambda(tmean=tmean)  # Latent Heat of Vaporization in PyEt [MJ kg-1] \n",
    "lambda0 = 2.45  # Latent Heat of Vaporization in Guo et al., 2016 [MJ kg-1] \n",
    "lambda_corr = lambda1 / lambda0  # Correction factor"
   ]
  },
  {
   "cell_type": "code",
   "execution_count": null,
   "metadata": {},
   "outputs": [],
   "source": [
    "import numpy as np\n",
    "\n",
    "def sensitivity_analysis(func, param_name, param_range, fixed_params, num_samples=200, apply_correction = False):\n",
    "    \"\"\"\n",
    "    Conducts a sensitivity analysis on a given function.\n",
    "\n",
    "    :param func: The function to test.\n",
    "    :param param_name: The parameter name as a string that we want to analyze.\n",
    "    :param param_range: A tuple (min, max) specifying the range of values.\n",
    "    :param fixed_params: A dictionary of other parameters that will be kept constant.\n",
    "    :return: A list of output values for each sampled value in param_range.\n",
    "    \"\"\"\n",
    "    sampled_values = np.linspace(param_range[0], param_range[1], num_samples)\n",
    "    results = []\n",
    "\n",
    "    lambda0 = 2.45  # Latent Heat of Vaporization in Guo et al., 2016 [MJ kg-1] \n",
    "\n",
    "    for value in sampled_values:\n",
    "        # Update the parameter of interest.\n",
    "        params = fixed_params.copy()\n",
    "        params[param_name] = value\n",
    "\n",
    "        # Get the result of the function with the current parameter set.\n",
    "\n",
    "        if apply_correction is False:\n",
    "            labmda_corr = 1\n",
    "        else:\n",
    "            lambda1 = pyet.calc_lambda(params['tmean'])\n",
    "            lambda_corr = lambda1/lambda0\n",
    "\n",
    "        result = func(**params) * lambda_corr\n",
    "        results.append(result)\n",
    "\n",
    "    return results\n",
    "\n",
    "# Example usage:\n",
    "fixed_parameters = {\n",
    "    'tmean': tmean_value,\n",
    "    'wind': wind_value,\n",
    "    # ... other fixed parameters ...\n",
    "    'albedo': 0.08\n",
    "}\n",
    "\n",
    "results = sensitivity_analysis(pyet.penman, 'wind', (0.5, 10.5), fixed_parameters)\n"
   ]
  }
 ],
 "metadata": {
  "kernelspec": {
   "display_name": "spring_catch",
   "language": "python",
   "name": "python3"
  },
  "language_info": {
   "codemirror_mode": {
    "name": "ipython",
    "version": 3
   },
   "file_extension": ".py",
   "mimetype": "text/x-python",
   "name": "python",
   "nbconvert_exporter": "python",
   "pygments_lexer": "ipython3",
   "version": "3.10.9"
  },
  "orig_nbformat": 4
 },
 "nbformat": 4,
 "nbformat_minor": 2
}
