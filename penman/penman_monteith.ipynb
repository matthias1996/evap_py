{
 "cells": [
  {
   "cell_type": "code",
   "execution_count": 584,
   "metadata": {},
   "outputs": [],
   "source": [
    "# use the python package pyet to calculate the ETP based on the penman montheit equation \n",
    "# perform sensitivity analysis"
   ]
  },
  {
   "cell_type": "code",
   "execution_count": 585,
   "metadata": {},
   "outputs": [],
   "source": [
    "import pandas as pd\n",
    "import matplotlib.pyplot as plt\n",
    "import pyet\n",
    "import numpy as np\n",
    "from scipy import stats"
   ]
  },
  {
   "cell_type": "code",
   "execution_count": 586,
   "metadata": {},
   "outputs": [
    {
     "data": {
      "text/html": [
       "<div>\n",
       "<style scoped>\n",
       "    .dataframe tbody tr th:only-of-type {\n",
       "        vertical-align: middle;\n",
       "    }\n",
       "\n",
       "    .dataframe tbody tr th {\n",
       "        vertical-align: top;\n",
       "    }\n",
       "\n",
       "    .dataframe thead th {\n",
       "        text-align: right;\n",
       "    }\n",
       "</style>\n",
       "<table border=\"1\" class=\"dataframe\">\n",
       "  <thead>\n",
       "    <tr style=\"text-align: right;\">\n",
       "      <th></th>\n",
       "      <th>station</th>\n",
       "      <th>strahl</th>\n",
       "      <th>rel</th>\n",
       "      <th>t</th>\n",
       "      <th>tmax</th>\n",
       "      <th>tmin</th>\n",
       "      <th>vv</th>\n",
       "    </tr>\n",
       "    <tr>\n",
       "      <th>time</th>\n",
       "      <th></th>\n",
       "      <th></th>\n",
       "      <th></th>\n",
       "      <th></th>\n",
       "      <th></th>\n",
       "      <th></th>\n",
       "      <th></th>\n",
       "    </tr>\n",
       "  </thead>\n",
       "  <tbody>\n",
       "    <tr>\n",
       "      <th>2000-01-01</th>\n",
       "      <td>16412</td>\n",
       "      <td>300.0</td>\n",
       "      <td>80.0</td>\n",
       "      <td>-2.7</td>\n",
       "      <td>0.5</td>\n",
       "      <td>-5.8</td>\n",
       "      <td>1.0</td>\n",
       "    </tr>\n",
       "    <tr>\n",
       "      <th>2000-01-02</th>\n",
       "      <td>16412</td>\n",
       "      <td>250.0</td>\n",
       "      <td>86.0</td>\n",
       "      <td>0.2</td>\n",
       "      <td>2.5</td>\n",
       "      <td>-2.1</td>\n",
       "      <td>1.0</td>\n",
       "    </tr>\n",
       "    <tr>\n",
       "      <th>2000-01-03</th>\n",
       "      <td>16412</td>\n",
       "      <td>598.0</td>\n",
       "      <td>86.0</td>\n",
       "      <td>0.6</td>\n",
       "      <td>3.6</td>\n",
       "      <td>-2.4</td>\n",
       "      <td>1.0</td>\n",
       "    </tr>\n",
       "    <tr>\n",
       "      <th>2000-01-04</th>\n",
       "      <td>16412</td>\n",
       "      <td>619.0</td>\n",
       "      <td>83.0</td>\n",
       "      <td>-0.5</td>\n",
       "      <td>4.5</td>\n",
       "      <td>-5.5</td>\n",
       "      <td>1.0</td>\n",
       "    </tr>\n",
       "    <tr>\n",
       "      <th>2000-01-05</th>\n",
       "      <td>16412</td>\n",
       "      <td>463.0</td>\n",
       "      <td>84.0</td>\n",
       "      <td>-0.1</td>\n",
       "      <td>5.4</td>\n",
       "      <td>-5.5</td>\n",
       "      <td>1.0</td>\n",
       "    </tr>\n",
       "    <tr>\n",
       "      <th>...</th>\n",
       "      <td>...</td>\n",
       "      <td>...</td>\n",
       "      <td>...</td>\n",
       "      <td>...</td>\n",
       "      <td>...</td>\n",
       "      <td>...</td>\n",
       "      <td>...</td>\n",
       "    </tr>\n",
       "    <tr>\n",
       "      <th>2021-11-07</th>\n",
       "      <td>16412</td>\n",
       "      <td>852.0</td>\n",
       "      <td>74.0</td>\n",
       "      <td>8.5</td>\n",
       "      <td>12.2</td>\n",
       "      <td>4.7</td>\n",
       "      <td>1.6</td>\n",
       "    </tr>\n",
       "    <tr>\n",
       "      <th>2021-11-08</th>\n",
       "      <td>16412</td>\n",
       "      <td>553.0</td>\n",
       "      <td>78.0</td>\n",
       "      <td>7.5</td>\n",
       "      <td>10.4</td>\n",
       "      <td>4.5</td>\n",
       "      <td>1.6</td>\n",
       "    </tr>\n",
       "    <tr>\n",
       "      <th>2021-11-09</th>\n",
       "      <td>16412</td>\n",
       "      <td>902.0</td>\n",
       "      <td>67.0</td>\n",
       "      <td>7.1</td>\n",
       "      <td>11.7</td>\n",
       "      <td>2.4</td>\n",
       "      <td>2.7</td>\n",
       "    </tr>\n",
       "    <tr>\n",
       "      <th>2021-11-10</th>\n",
       "      <td>16412</td>\n",
       "      <td>785.0</td>\n",
       "      <td>79.0</td>\n",
       "      <td>5.3</td>\n",
       "      <td>10.1</td>\n",
       "      <td>0.4</td>\n",
       "      <td>2.1</td>\n",
       "    </tr>\n",
       "    <tr>\n",
       "      <th>2021-11-11</th>\n",
       "      <td>16412</td>\n",
       "      <td>194.0</td>\n",
       "      <td>91.0</td>\n",
       "      <td>5.1</td>\n",
       "      <td>6.5</td>\n",
       "      <td>3.7</td>\n",
       "      <td>1.1</td>\n",
       "    </tr>\n",
       "  </tbody>\n",
       "</table>\n",
       "<p>7986 rows × 7 columns</p>\n",
       "</div>"
      ],
      "text/plain": [
       "            station  strahl   rel    t  tmax  tmin   vv\n",
       "time                                                   \n",
       "2000-01-01    16412   300.0  80.0 -2.7   0.5  -5.8  1.0\n",
       "2000-01-02    16412   250.0  86.0  0.2   2.5  -2.1  1.0\n",
       "2000-01-03    16412   598.0  86.0  0.6   3.6  -2.4  1.0\n",
       "2000-01-04    16412   619.0  83.0 -0.5   4.5  -5.5  1.0\n",
       "2000-01-05    16412   463.0  84.0 -0.1   5.4  -5.5  1.0\n",
       "...             ...     ...   ...  ...   ...   ...  ...\n",
       "2021-11-07    16412   852.0  74.0  8.5  12.2   4.7  1.6\n",
       "2021-11-08    16412   553.0  78.0  7.5  10.4   4.5  1.6\n",
       "2021-11-09    16412   902.0  67.0  7.1  11.7   2.4  2.7\n",
       "2021-11-10    16412   785.0  79.0  5.3  10.1   0.4  2.1\n",
       "2021-11-11    16412   194.0  91.0  5.1   6.5   3.7  1.1\n",
       "\n",
       "[7986 rows x 7 columns]"
      ]
     },
     "execution_count": 586,
     "metadata": {},
     "output_type": "execute_result"
    }
   ],
   "source": [
    "#read data\n",
    "data_16412 = pd.read_csv('klima_daily.csv', index_col=1, parse_dates=True)\n",
    "data_16412"
   ]
  },
  {
   "cell_type": "markdown",
   "metadata": {},
   "source": [
    "## Calculate PET for Graz Universität - 16412"
   ]
  },
  {
   "cell_type": "code",
   "execution_count": 587,
   "metadata": {},
   "outputs": [],
   "source": [
    "# Convert Glabalstrahlung J/cm2 to MJ/m2 by dividing to 100\n",
    "\n",
    "meteo = pd.DataFrame({\"time\":data_16412.index, \"tmean\":data_16412.t, \"tmax\":data_16412.tmax, \"tmin\":data_16412.tmin, \"rh\":data_16412.rel, \n",
    "                      \"wind\":data_16412.vv, \"rs\":data_16412.strahl/100})\n",
    "time, tmean, tmax, tmin, rh, wind, rs = [meteo[col] for col in meteo.columns]\n",
    "\n",
    "lat = 47.077778*np.pi/180  # Latitude of the meteorological station, converting from degrees to radians\n",
    "elevation = 367  # meters above sea-level\n",
    "\n",
    "lambda1=pyet.calc_lambda(tmean=tmean)  # Latent Heat of Vaporization in PyEt [MJ kg-1] \n",
    "lambda0 = 2.45  # Latent Heat of Vaporization in Guo et al., 2016 [MJ kg-1] \n",
    "lambda_corr = lambda1 / lambda0  # Correction factor"
   ]
  },
  {
   "cell_type": "code",
   "execution_count": 588,
   "metadata": {},
   "outputs": [],
   "source": [
    "pyet_penman = pyet.penman(tmean, wind, rs=rs, elevation=elevation, lat=lat, tmax=tmax, \n",
    "                          tmin=tmin, rh=rh, aw=1, bw=0.526, albedo=0.08) * lambda_corr"
   ]
  },
  {
   "cell_type": "code",
   "execution_count": 589,
   "metadata": {},
   "outputs": [
    {
     "data": {
      "text/plain": [
       "[<matplotlib.lines.Line2D at 0x2b04928a020>]"
      ]
     },
     "execution_count": 589,
     "metadata": {},
     "output_type": "execute_result"
    },
    {
     "data": {
      "image/png": "[encoded data removed]",
      "text/plain": [
       "<Figure size 1000x600 with 1 Axes>"
      ]
     },
     "metadata": {},
     "output_type": "display_data"
    }
   ],
   "source": [
    "# plot pyet_penman\n",
    "fig, ax = plt.subplots(figsize = (10,6))\n",
    "\n",
    "ax.plot(pyet_penman)"
   ]
  },
  {
   "cell_type": "code",
   "execution_count": 590,
   "metadata": {},
   "outputs": [],
   "source": [
    "# perform sensitivity analysis\n",
    "# create random distributed data for the parameters\n",
    "\n",
    "t_min = (min(tmin), max(tmin))\n",
    "t_max = (min(tmax), max(tmax))\n",
    "t_mean = (min(tmean), max(tmean))\n",
    "wind_mm = (min(wind), max(wind))\n",
    "rs_mm = (min(rs), max(rs))\n",
    "rh_mm = (min(rh), max(rh))\n",
    "\n",
    "temp_range = (t_mean[0], t_mean[1])\n",
    "tmin_range = (t_min[0], t_min[1])\n",
    "tmax_range = (t_max[0], t_max[1])\n",
    "wind_range = (wind_mm[0], wind_mm[1])\n",
    "rs_range = (rs_mm[0], rs_mm[1])\n",
    "rh_range = (rh_mm[0], rh_mm[1])\n",
    "\n",
    "wind_range = np.linspace(0.5, 10.5, 100)\n",
    "#temp_range = np.linspace(0.5, 40.5, 100)\n",
    "\n",
    "\n",
    "num_samples =70\n",
    "\n",
    "elevation = 370"
   ]
  },
  {
   "cell_type": "code",
   "execution_count": 591,
   "metadata": {},
   "outputs": [],
   "source": [
    "# function to create series from single float value\n",
    "\n",
    "def create_series_from_float(value):\n",
    "    \"\"\"\n",
    "    Create a pandas series from a single float value and a pandas index.\n",
    "    \"\"\"\n",
    "    #check if value is a float\n",
    "    if isinstance(value, float):\n",
    "        # convert to array\n",
    "        value = np.array([value]) \n",
    "        \n",
    "    return pd.Series(value, index = pd.date_range(start = '2018-01-01', periods = len(value), freq = 'D'))"
   ]
  },
  {
   "cell_type": "code",
   "execution_count": 592,
   "metadata": {},
   "outputs": [],
   "source": [
    "# +3 35min, 2min7sek "
   ]
  },
  {
   "cell_type": "code",
   "execution_count": 593,
   "metadata": {},
   "outputs": [],
   "source": [
    "results = []\n",
    "\n",
    "num_samples= 200\n",
    "lambda0 = 2.45  # Latent Heat of Vaporization in Guo et al., 2016 [MJ kg-1] \n",
    "\n",
    "for wind in wind_range:\n",
    "    wind = np.full(num_samples, wind)\n",
    "    wind = create_series_from_float(wind)\n",
    "    rh = np.random.uniform(rh_range[0], rh_range[1], num_samples)\n",
    "    rh = create_series_from_float(rh)\n",
    "    rs = np.random.uniform(rs_range[0],rs_range[1], num_samples)\n",
    "    rs = create_series_from_float(rs)\n",
    "    tmean = np.random.uniform(temp_range[0], temp_range[1], num_samples)\n",
    "    tmean = create_series_from_float(tmean)\n",
    "    tmin = np.random.uniform(tmin_range[0], tmin_range[1], num_samples)\n",
    "    tmin = create_series_from_float(tmin)\n",
    "    tmax = np.random.uniform(tmax_range[0], tmax_range[1], num_samples)\n",
    "    tmax = create_series_from_float(tmax)\n",
    "\n",
    "    lambda1=pyet.calc_lambda(tmean=tmean)  # Latent Heat of Vaporization in PyEt [MJ kg-1]\n",
    "    lambda_corr = lambda1 / lambda0 # Correction factor for latent heat of vaporization\n",
    "\n",
    "        # calculate the reference ET\n",
    "    pyet_penman = pyet.penman(tmean, wind, rs=rs, elevation=elevation, lat=lat, tmax=tmax, \n",
    "                          tmin=tmin, rh=rh, aw=1, bw=0.526, albedo=0.08) * lambda_corr\n",
    "        \n",
    "\n",
    "    results.append(pyet_penman.values)"
   ]
  },
  {
   "cell_type": "code",
   "execution_count": 596,
   "metadata": {},
   "outputs": [],
   "source": [
    "fparams = {\n",
    "    'tmean': [20.0,40],\n",
    "    'tmin': [10.0,30],\n",
    "}"
   ]
  },
  {
   "cell_type": "code",
   "execution_count": 598,
   "metadata": {},
   "outputs": [],
   "source": [
    "fparams['tmean'] = [10,15, 40]"
   ]
  },
  {
   "cell_type": "code",
   "execution_count": 600,
   "metadata": {},
   "outputs": [
    {
     "data": {
      "text/plain": [
       "[10, 15, 40]"
      ]
     },
     "execution_count": 600,
     "metadata": {},
     "output_type": "execute_result"
    }
   ],
   "source": [
    "fparams['tmean']"
   ]
  },
  {
   "cell_type": "code",
   "execution_count": 604,
   "metadata": {},
   "outputs": [
    {
     "data": {
      "text/plain": [
       "dict_keys(['tmean', 'tmin'])"
      ]
     },
     "execution_count": 604,
     "metadata": {},
     "output_type": "execute_result"
    }
   ],
   "source": [
    "fparams.keys()\n"
   ]
  },
  {
   "cell_type": "code",
   "execution_count": null,
   "metadata": {},
   "outputs": [],
   "source": []
  }
 ],
 "metadata": {
  "kernelspec": {
   "display_name": "spring_catch",
   "language": "python",
   "name": "python3"
  },
  "language_info": {
   "codemirror_mode": {
    "name": "ipython",
    "version": 3
   },
   "file_extension": ".py",
   "mimetype": "text/x-python",
   "name": "python",
   "nbconvert_exporter": "python",
   "pygments_lexer": "ipython3",
   "version": "3.10.9"
  },
  "orig_nbformat": 4
 },
 "nbformat": 4,
 "nbformat_minor": 2
}
