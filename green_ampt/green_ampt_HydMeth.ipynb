{
 "cells": [
  {
   "cell_type": "markdown",
   "metadata": {},
   "source": [
    "Infiltrationsbestimmung nach Green und Ampt\n",
    "\n",
    "Mit dem Green-Ampt Modell lässt sich die Infiltrationsrate in eine Bodensäule mit einem Querschnitt von 1 m² als exponentielle Funktion der Zeit darstellen.\n",
    "\n",
    "$ Formel §"
   ]
  },
  {
   "cell_type": "code",
   "execution_count": 2,
   "metadata": {},
   "outputs": [],
   "source": [
    "import numpy as np\n",
    "import pandas as pd\n",
    "import matplotlib.pyplot as plt\n",
    "import ipywidgets as widgets\n",
    "from ipywidgets import interact\n",
    "from ipywidgets import interact, interactive, fixed, interact_manual, Button, HBox, VBox\n",
    "from ipywidgets import interactive_output\n",
    "from IPython.display import clear_output\n"
   ]
  },
  {
   "cell_type": "markdown",
   "metadata": {},
   "source": [
    "Messdaten für die Infiltration [l/s] in einen 1 m² großen Bodenquerschnitt können als csv-Datei durch Eingabe des vollständigen Dateipfades in das nachstehende Eingabefenster eingelesen werden.\n",
    "\n",
    "Im zweiten Eingabefenster ist der Spaltenname der Zeitdatenreihe einzufügen."
   ]
  },
  {
   "cell_type": "code",
   "execution_count": null,
   "metadata": {},
   "outputs": [],
   "source": []
  },
  {
   "cell_type": "code",
   "execution_count": 2,
   "metadata": {},
   "outputs": [],
   "source": [
    "class GreenAmptModel:\n",
    "    def __init__(self, h0, theta_0):\n",
    "        self.h0 = h0\n",
    "        self.theta_0 = theta_0\n",
    "        self.reference_lines = []\n",
    "        self.ref_line_params = []\n",
    "        self.short_time_ref = []\n",
    "        self.short_time_params = []\n",
    "        self.infiltration_rate_ref = []\n",
    "\n",
    "\n",
    "    def t_for_cum_inf(self, i_t, d_theta, d_h, Ks):\n",
    "        return (i_t - d_theta * d_h * np.log(1+ (i_t/(d_theta*d_h))))/Ks\n",
    "\n",
    "    def short_time_approximation(self, d_theta, d_h, K, t):\n",
    "        \"\"\"Short time approximation for cumulative infiltration\n",
    "        Parameters\n",
    "        ----------\n",
    "        d_theta : float\n",
    "            Change in volumetric water content\n",
    "        d_h : float\n",
    "            Change in pressure head\n",
    "        K : float\n",
    "            Hydraulic conductivity\n",
    "        t : array_like\n",
    "            Time\n",
    "        Returns\n",
    "        -------\n",
    "        i_t : array\n",
    "            Cumulative infiltration\"\"\"\n",
    "\n",
    "        return np.sqrt((d_theta*d_h*K)/(2*t))\n",
    "\n",
    "    def long_time_approximation(self, K, x):\n",
    "        \"\"\"Long time approximation for cumulative infiltration\n",
    "        Parameters\n",
    "        ----------\n",
    "        K : float\n",
    "            Hydraulic conductivity\n",
    "        t : array_like\n",
    "            Time\n",
    "        Returns\n",
    "        -------\n",
    "        K : float\n",
    "            Hydraulic conductivity\"\"\"\n",
    "\n",
    "        it_long = np.array([K]*len(x))\n",
    "\n",
    "        return it_long\n",
    "\n",
    "    def d_h(self, h0, hf):\n",
    "        return h0 - hf\n",
    "\n",
    "    def d_theta(self, theta_0, theta_i):\n",
    "        return theta_0 - theta_i\n",
    "    \n",
    "    def infiltration_rate(self, new_x, t, I_t):\n",
    "        y2 = np.interp(new_x, t, I_t)\n",
    "        diff = np.diff(y2)\n",
    "        self.diff = diff\n",
    "        return diff\n",
    "    \n",
    "\n",
    "    def plot_scenario_1(self, hf=-60, theta_i=0.2, Ks=4):\n",
    "        delta_theta = self.d_theta(self.theta_0, theta_i)\n",
    "        delta_h = self.d_h(self.h0, hf)\n",
    "\n",
    "        I_t = np.arange(0, 260, 0.1)\n",
    "        t = self.t_for_cum_inf(I_t, delta_theta, delta_h, Ks)\n",
    "        # write the time to a file\n",
    "        np.savetxt('time.txt', t, delimiter=',')\n",
    "        self.new_x = np.arange(round(t[0], 1), round(t[-1], 1), 0.01)\n",
    "\n",
    "        self.infiltration_rate(self.new_x, t, I_t)\n",
    "        \n",
    "        i_t_short = self.short_time_approximation(delta_theta, delta_h, Ks, self.new_x)\n",
    "        i_t_long = self.long_time_approximation(Ks, self.new_x)\n",
    "\n",
    "        fig, ax = plt.subplots(figsize=(10, 6))\n",
    "\n",
    "        # Plot all reference lines for the short time approximation\n",
    "        for ref, params in zip(self.reference_lines, self.ref_line_params):\n",
    "            ref_x, ref_y = ref\n",
    "            ax.plot(ref_x, ref_y, linestyle='-.', alpha=0.6, label='hf:{} theta_i:{} Ks:{}'.format(params[0], params[1], params[2]))\n",
    "\n",
    "        #plot reference line for infiltration rate\n",
    "        for ref, params in zip(self.infiltration_rate_ref, self.ref_line_params):\n",
    "            ref_x, ref_y = ref\n",
    "            ax.plot(ref_x, ref_x, linestyle='-.', alpha=0.6, label='hf:{} theta_i:{} Ks:{}'.format(params[0], params[1], params[2]), linewidth=2.5)\n",
    "\n",
    "        ax.plot(self.new_x[1:-5], self.diff[:-5]*100, color='black', label=\"theta_i=\" + str(theta_i) + \", hf=\" + str(hf), linewidth=2.5)\n",
    "        ax.plot(self.new_x, i_t_short, 'orange', linestyle='-.', label='Short time approximation')\n",
    "        ax.plot(self.new_x, i_t_long, 'red', linestyle='--', label='Long time approximation')\n",
    "\n",
    "        ax.set_ylim(0.1, 140)\n",
    "        ax.set_xlim(-5, max(self.new_x))\n",
    "        plt.yscale('log')\n",
    "        ax.set_xlabel('Time [h]', fontsize=12)\n",
    "        ax.set_ylabel('infiltration rate [cm/h]', fontsize=12)\n",
    "\n",
    "        # Move the legend outside of the plot\n",
    "        ax.legend(loc='center left', bbox_to_anchor=(1, 0.5))\n",
    "\n",
    "        plt.show()\n",
    "\n",
    "    def on_button_click(self, button):\n",
    "        # Current parameter values\n",
    "        hf_val = self.hf_slider.value\n",
    "        theta_i_val = self.theta_i_slider.value\n",
    "        Ks_val = self.Ks_slider.value\n",
    "\n",
    "        delta_theta = self.d_theta(self.theta_0, theta_i_val)\n",
    "        delta_h = self.d_h(self.h0, hf_val)\n",
    "\n",
    "        I_t = np.arange(0, 260, 0.1)\n",
    "        t = self.t_for_cum_inf(I_t, delta_theta, delta_h, Ks_val)\n",
    "        print(t)\n",
    "        #self.new_x = np.arange(round(t[0], 1), round(t[-1], 1), 0.01)\n",
    "        i_t_short = self.short_time_approximation(delta_theta, delta_h, Ks_val, self.new_x)\n",
    "\n",
    "        # Store the current short time approximation data as a reference line\n",
    "        self.reference_lines.append((self.new_x, i_t_short))\n",
    "        self.ref_line_params.append((hf_val, theta_i_val, Ks_val))\n",
    "        self.short_time_ref.append((self.new_x, i_t_short))\n",
    "        self.short_time_params.append((hf_val, theta_i_val, Ks_val))\n",
    "\n",
    "        diff = self.infiltration_rate(self.new_x, t, I_t)\n",
    "        self.infiltration_rate_ref.append((self.new_x[1:-5], self.diff[:-5]*100))\n",
    "\n",
    "        clear_output(wait=True)\n",
    "        display(self.interactive_plot)\n",
    "        display(button)\n",
    "\n",
    "\n",
    "    def create_interactive_plot(self):\n",
    "        # Create the button\n",
    "        button = Button(description=\"Fixate Short time approximation\")\n",
    "        button.on_click(self.on_button_click)\n",
    "\n",
    "        # Create sliders for the parameters\n",
    "        self.hf_slider = widgets.FloatSlider(value=-60, min=-200, max=0, step=1, description='hf:')\n",
    "        self.theta_i_slider = widgets.FloatSlider(value=0.2, min=0, max=0.5, step=0.01, description='theta_i:')\n",
    "        self.Ks_slider = widgets.FloatSlider(value=4, min=0, max=10, step=0.1, description='Ks:')\n",
    "\n",
    "        # Display the interactive plot with the sliders and button\n",
    "        self.interactive_plot = interactive(self.plot_scenario_1, hf=self.hf_slider, theta_i=self.theta_i_slider, Ks=self.Ks_slider)\n",
    "        display(self.interactive_plot)        \n",
    "        display(button)\n"
   ]
  },
  {
   "cell_type": "code",
   "execution_count": null,
   "metadata": {},
   "outputs": [
    {
     "data": {
      "application/vnd.jupyter.widget-view+json": {
       "model_id": "da28294c623643f4add9b092b0f49139",
       "version_major": 2,
       "version_minor": 0
      },
      "text/plain": [
       "interactive(children=(FloatSlider(value=-60.0, description='hf:', max=0.0, min=-200.0, step=1.0), FloatSlider(…"
      ]
     },
     "metadata": {},
     "output_type": "display_data"
    },
    {
     "data": {
      "application/vnd.jupyter.widget-view+json": {
       "model_id": "1bb7b7f9a933490a9dc69c1053d32418",
       "version_major": 2,
       "version_minor": 0
      },
      "text/plain": [
       "Button(description='Fixate Short time approximation', style=ButtonStyle())"
      ]
     },
     "metadata": {},
     "output_type": "display_data"
    }
   ],
   "source": [
    "GreenAmptModel(h0=0.40, theta_0=1).create_interactive_plot()\n",
    "#theta und h als intrangslder\n",
    "#buttn fü longtime + schwarz\n"
   ]
  },
  {
   "cell_type": "code",
   "execution_count": 3,
   "metadata": {},
   "outputs": [
    {
     "data": {
      "application/vnd.jupyter.widget-view+json": {
       "model_id": "1d5e1d9b9b6e4cf3ac3e71109fa5a9be",
       "version_major": 2,
       "version_minor": 0
      },
      "text/plain": [
       "interactive(children=(Text(value='', description='Dateipfad: ', placeholder='Hier Dateipfad einfügen'), Text(v…"
      ]
     },
     "metadata": {},
     "output_type": "display_data"
    },
    {
     "data": {
      "text/plain": [
       "<function __main__.plot_Infiltration(data_path, col_name_inf, col_name_t)>"
      ]
     },
     "execution_count": 3,
     "metadata": {},
     "output_type": "execute_result"
    }
   ],
   "source": [
    "\n",
    "def read_csv(data_path, col_name_inf, col_name_t):\n",
    "\n",
    "    if data_path and col_name_inf and col_name_t != '':\n",
    "        data = pd.read_csv(data_path, parse_dates=True, sep=';')\n",
    "        infiltration_data = data[col_name_inf].values\n",
    "        timesteps_data = data[col_name_t].values\n",
    "\n",
    "        if len(infiltration_data) == len(timesteps_data):\n",
    "            return infiltration_data, timesteps_data\n",
    "        else:\n",
    "            print('!Fehler!: Die Infiltrationsdaten haben nicht die selbe Länge, wie die Zeitdaten')\n",
    "\n",
    "    else:\n",
    "        print('!Fehler! :Es sind nicht alle Felder korekt ausgefüllt, es werden keine Daten eingelesen')\n",
    "\n",
    "\n",
    "def plot_Infiltration(data_path, col_name_inf, col_name_t):\n",
    "\n",
    "    infiltration_data, timesteps_data = read_csv(data_path, col_name_inf, col_name_t)\n",
    "\n",
    "    fig, ax = plt.subplots(figsize=(10, 6))\n",
    "\n",
    "    ax.plot(timesteps_data, infiltration_data, marker='x', color='orange', linestyle='', label='Messdaten Infiltrationsversuch')\n",
    "    xticks = np.arange(0,30,10)\n",
    "    ax.set_xticks(xticks)\n",
    "\n",
    "    #ax.set_ylim(0.1, max(infiltration_data)+1)\n",
    "    #ax.set_xlim(-5, max(timesteps_data))\n",
    "    plt.yscale('log')\n",
    "    ax.set_xlabel('Time [h]', fontsize=12)\n",
    "    ax.set_ylabel('infiltration rate [cm/h]', fontsize=12)\n",
    "\n",
    "    # Move the legend outside of the plot\n",
    "    ax.legend(loc='center left', bbox_to_anchor=(1, 0.5))\n",
    "\n",
    "    plt.show()\n",
    "    \n",
    "\n",
    "\n",
    "interact(plot_Infiltration,\n",
    "         data_path = widgets.Text(placeholder='Hier Dateipfad einfügen', description='Dateipfad: ', disabled=False),\n",
    "         col_name_t = widgets.Text(placeholder='Hier Spaltenname für Zeitdaten einfügen', description='Zeitdaten: ', disabled=False),\n",
    "         col_name_inf = widgets.Text(placeholder='Hier Spaltenname für Infiltraton einfügen', description='Infiltrationsdaten: ', disabled=False)\n",
    "        )\n",
    "\n",
    "\n",
    "#cum + sch\n",
    "#mm/min\n",
    "#eingabe für f1. plt und F 2. plt und t\n"
   ]
  }
 ],
 "metadata": {
  "kernelspec": {
   "display_name": "base",
   "language": "python",
   "name": "python3"
  },
  "language_info": {
   "codemirror_mode": {
    "name": "ipython",
    "version": 3
   },
   "file_extension": ".py",
   "mimetype": "text/x-python",
   "name": "python",
   "nbconvert_exporter": "python",
   "pygments_lexer": "ipython3",
   "version": "3.11.2"
  }
 },
 "nbformat": 4,
 "nbformat_minor": 2
}
